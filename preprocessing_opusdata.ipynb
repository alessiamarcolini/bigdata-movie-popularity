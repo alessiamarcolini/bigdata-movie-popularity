{
 "cells": [
  {
   "cell_type": "code",
   "execution_count": null,
   "metadata": {},
   "outputs": [],
   "source": [
    "from secrets import HADOOP_USER_NAME, SPARK_URI, HADOOP_NAMENODE"
   ]
  },
  {
   "cell_type": "code",
   "execution_count": null,
   "metadata": {},
   "outputs": [],
   "source": [
    "import os\n",
    "os.environ['HADOOP_USER_NAME'] = HADOOP_USER_NAME"
   ]
  },
  {
   "cell_type": "code",
   "execution_count": null,
   "metadata": {},
   "outputs": [],
   "source": [
    "import pyspark\n",
    "from pyspark.sql import SparkSession\n",
    "from pyspark import SparkContext\n",
    "import pyspark.sql.functions as F\n",
    "import pyspark.sql.types as t"
   ]
  },
  {
   "cell_type": "code",
   "execution_count": null,
   "metadata": {},
   "outputs": [],
   "source": [
    "sc = SparkContext(SPARK_URI)\n",
    "sparkSession = (\n",
    "    SparkSession.builder.appName(\"processing-opusdata\")\n",
    "    .config(\"spark.hadoop.dfs.client.use.datanode.hostname\", \"true\")\n",
    "    .getOrCreate()\n",
    ")"
   ]
  },
  {
   "cell_type": "code",
   "execution_count": null,
   "metadata": {},
   "outputs": [],
   "source": [
    "# Read from hdfs\n",
    "opusdata = sparkSession.read.csv(\n",
    "    f\"hdfs://{HADOOP_NAMENODE}:8020/raw/opusdata.csv\", header=True, inferSchema=True\n",
    ")\n",
    "opusdata.show()\n",
    "\n",
    "# sc = spark.sparkContext"
   ]
  },
  {
   "cell_type": "code",
   "execution_count": null,
   "metadata": {},
   "outputs": [],
   "source": [
    "opusdata_filter_0 = opusdata.filter(opusdata[\"production_budget\"] != 0)"
   ]
  },
  {
   "cell_type": "code",
   "execution_count": null,
   "metadata": {},
   "outputs": [],
   "source": [
    "opusdata_filter_0 = opusdata_filter_0.filter(\n",
    "    opusdata_filter_0[\"domestic_box_office\"] != 0\n",
    ")"
   ]
  },
  {
   "cell_type": "code",
   "execution_count": null,
   "metadata": {},
   "outputs": [],
   "source": [
    "opusdata_filter_0 = opusdata_filter_0.filter(\n",
    "    opusdata_filter_0[\"international_box_office\"] != 0\n",
    ")"
   ]
  },
  {
   "cell_type": "code",
   "execution_count": null,
   "metadata": {},
   "outputs": [],
   "source": [
    "opusdata_dropped = opusdata_filter_0.drop(\n",
    "    \"movie_odid\", \"running_time\", \"production_method\", \"creative_type\", \"source\"\n",
    ")"
   ]
  },
  {
   "cell_type": "code",
   "execution_count": null,
   "metadata": {},
   "outputs": [],
   "source": [
    "opusdata_years = opusdata_dropped.filter(opusdata_dropped[\"production_year\"] >= 2010)"
   ]
  },
  {
   "cell_type": "code",
   "execution_count": null,
   "metadata": {},
   "outputs": [],
   "source": [
    "opusdata_distinct = opusdata_years.dropDuplicates([\"movie_name\", \"production_year\"])"
   ]
  },
  {
   "cell_type": "code",
   "execution_count": null,
   "metadata": {},
   "outputs": [],
   "source": [
    "opusdata_total_box_office = opusdata_distinct.withColumn(\n",
    "    \"total_box_office\",\n",
    "    opusdata_distinct[\"domestic_box_office\"]\n",
    "    + opusdata_distinct[\"international_box_office\"],\n",
    ").drop(\"domestic_box_office\", \"international_box_office\")"
   ]
  },
  {
   "cell_type": "code",
   "execution_count": null,
   "metadata": {},
   "outputs": [],
   "source": [
    "opusdata_droppped_na = opusdata_total_box_office.na.drop(subset=[\"genre\", \"sequel\"])"
   ]
  },
  {
   "cell_type": "markdown",
   "metadata": {},
   "source": [
    "### Get \"success\" [1]\n",
    "[1] _Rhee, Travis Ginmu, and Farhana Zulkernine. \"Predicting movie box office profitability: A neural network approach.\" 2016 15th IEEE International Conference on Machine Learning and Applications (ICMLA). IEEE, 2016._\n",
    "\n",
    "Profit = (1⁄2 * total_box_office) – production_budget"
   ]
  },
  {
   "cell_type": "code",
   "execution_count": null,
   "metadata": {},
   "outputs": [],
   "source": [
    "@F.udf(returnType=t.IntegerType())\n",
    "def success(arguments):\n",
    "    total_box_office, production_budget = arguments\n",
    "    \n",
    "    profit = (0.5 * total_box_office) - production_budget\n",
    "    profit_censored = 1 if profit > 0 else 0\n",
    "    return profit_censored"
   ]
  },
  {
   "cell_type": "code",
   "execution_count": null,
   "metadata": {},
   "outputs": [],
   "source": [
    "opusdata_success = opusdata_droppped_na.withColumn(\n",
    "    \"success\", success(F.array(\"total_box_office\", \"production_budget\")))"
   ]
  },
  {
   "cell_type": "code",
   "execution_count": null,
   "metadata": {},
   "outputs": [],
   "source": [
    "opusdata_success.repartition(1).write.mode(\"overwrite\").option('header',True).csv(\n",
    "    f\"hdfs://{HADOOP_NAMENODE}:8020/processed/opusdata.csv\"\n",
    ")"
   ]
  },
  {
   "cell_type": "code",
   "execution_count": null,
   "metadata": {},
   "outputs": [],
   "source": []
  }
 ],
 "metadata": {
  "kernelspec": {
   "display_name": "Python (bigdata)",
   "language": "python",
   "name": "bigdata"
  },
  "language_info": {
   "codemirror_mode": {
    "name": "ipython",
    "version": 3
   },
   "file_extension": ".py",
   "mimetype": "text/x-python",
   "name": "python",
   "nbconvert_exporter": "python",
   "pygments_lexer": "ipython3",
   "version": "3.7.6"
  }
 },
 "nbformat": 4,
 "nbformat_minor": 4
}
