{
 "cells": [
  {
   "cell_type": "code",
   "execution_count": 1,
   "metadata": {},
   "outputs": [],
   "source": [
    "import os\n",
    "os.environ[\"HADOOP_USER_NAME\"] = \"hadoop\""
   ]
  },
  {
   "cell_type": "code",
   "execution_count": 2,
   "metadata": {},
   "outputs": [],
   "source": [
    "import pyspark\n",
    "from pyspark.sql import SparkSession\n",
    "from pyspark import SparkContext\n",
    "import pyspark.sql.functions as F"
   ]
  },
  {
   "cell_type": "code",
   "execution_count": 3,
   "metadata": {},
   "outputs": [],
   "source": [
    "sc = SparkContext(\"spark://bigdata.n12hiobdl5pevfjsrnvhrls1ed.jx.internal.cloudapp.net:7077\")\n",
    "sparkSession = (\n",
    "    SparkSession.builder.appName(\"example-pyspark-read-and-write\")\n",
    "    .config(\"spark.hadoop.dfs.client.use.datanode.hostname\", \"true\")\n",
    "    .getOrCreate()\n",
    ")"
   ]
  },
  {
   "cell_type": "code",
   "execution_count": 4,
   "metadata": {},
   "outputs": [
    {
     "name": "stdout",
     "output_type": "stream",
     "text": [
      "+--------------------+---------------+----------+-----------------+-------------------+------------------------+---------+--------------------+--------------------+-----------------+-----------------+------+------------+\n",
      "|          movie_name|production_year|movie_odid|production_budget|domestic_box_office|international_box_office|   rating|       creative_type|              source|production_method|            genre|sequel|running_time|\n",
      "+--------------------+---------------+----------+-----------------+-------------------+------------------------+---------+--------------------+--------------------+-----------------+-----------------+------+------------+\n",
      "|Madea's Family Re...|           2006|   8220100|         10000000|           63257940|                   62581|    PG-13|Contemporary Fiction|       Based on Play|      Live Action|           Comedy|     1|        null|\n",
      "|              Krrish|           2006|  58540100|         10000000|            1430721|                31000000|Not Rated|     Science Fiction| Original Screenplay|      Live Action|           Action|     1|        null|\n",
      "|    End of the Spear|           2006|  34620100|         10000000|           11748661|                  175380|    PG-13|  Historical Fiction| Original Screenplay|      Live Action|            Drama|     0|        null|\n",
      "|A Prairie Home Co...|           2006|  24910100|         10000000|           20342852|                 6373339|    PG-13|Contemporary Fiction| Original Screenplay|      Live Action|           Comedy|     0|         105|\n",
      "|             Saw III|           2006|   5840100|         10000000|           80238724|                83638091|        R|Contemporary Fiction| Original Screenplay|      Live Action|           Horror|     1|        null|\n",
      "|Employee of the M...|           2006|  19540100|         10000000|           28444855|                 9920000|    PG-13|Contemporary Fiction| Original Screenplay|      Live Action|           Comedy|     0|         108|\n",
      "|              Edmond|           2006|  78520100|         10000000|             131719|                  110000|        R|Contemporary Fiction|       Based on Play|      Live Action|     Black Comedy|     0|        null|\n",
      "|    Peaceful Warrior|           2006|  52640100|         10000000|            2893666|                  366513|    PG-13|       Dramatization|Based on Fiction ...|      Live Action|            Drama|     0|        null|\n",
      "|            Turistas|           2006|  42200100|         10000000|            7027762|                 7293308|        R|Contemporary Fiction| Original Screenplay|      Live Action|Thriller/Suspense|     0|        null|\n",
      "|Kabhi Alvida Naa ...|           2006|  51280100|         10750000|            3275443|                29300000|Not Rated|Contemporary Fiction| Original Screenplay|      Live Action|            Drama|     0|        null|\n",
      "| Jackass: Number Two|           2006|   6660100|         11000000|           72778712|                12500000|        R|             Factual|         Based on TV|      Live Action|           Comedy|     1|        null|\n",
      "|   Copying Beethoven|           2006|  69990100|         11000000|             355968|                 6230356|    PG-13|       Dramatization|Based on Real Lif...|      Live Action|            Drama|     0|        null|\n",
      "|For Your Consider...|           2006|  45520100|         12000000|            5549923|                       0|    PG-13|Contemporary Fiction| Original Screenplay|      Live Action|           Comedy|     0|        null|\n",
      "|               Crank|           2006|  19850100|         12000000|           27838408|                16086515|        R|Contemporary Fiction| Original Screenplay|      Live Action|           Action|     0|          88|\n",
      "|            Fateless|           2006|  75540100|         12000000|             196857|                       0|        R|  Historical Fiction|Based on Fiction ...|      Live Action|            Drama|     0|         140|\n",
      "|Running With Scis...|           2006|  42860100|         12000000|            6860000|                 1846701|        R|       Dramatization|Based on Fiction ...|      Live Action|           Comedy|     0|        null|\n",
      "|             Step Up|           2006|   7780100|         12000000|           65328121|                45661036|    PG-13|Contemporary Fiction| Original Screenplay|      Live Action|            Drama|     0|         103|\n",
      "|      Find Me Guilty|           2006|  60110100|         13000000|            1173673|                 1724552|        R|       Dramatization|Based on Real Lif...|      Live Action|            Drama|     0|        null|\n",
      "|            Infamous|           2006|  60310100|         13000000|            1151330|                 1462387|        R|       Dramatization|Based on Fiction ...|      Live Action|            Drama|     0|        null|\n",
      "|Letters from Iwo ...|           2006|  31930100|         13000000|           13756082|                54111916|        R|  Historical Fiction|Based on Real Lif...|      Live Action|            Drama|     0|         101|\n",
      "+--------------------+---------------+----------+-----------------+-------------------+------------------------+---------+--------------------+--------------------+-----------------+-----------------+------+------------+\n",
      "only showing top 20 rows\n",
      "\n"
     ]
    }
   ],
   "source": [
    "# Read from hdfs\n",
    "opusdata = sparkSession.read.csv(\n",
    "    \"hdfs://hadoop-namenode:8020/prova/opusdata.csv\", header=True, inferSchema=True\n",
    ")\n",
    "opusdata.show()\n",
    "\n",
    "# sc = spark.sparkContext"
   ]
  },
  {
   "cell_type": "code",
   "execution_count": 5,
   "metadata": {},
   "outputs": [],
   "source": [
    "opusdata_filter_0 = opusdata.filter(opusdata[\"production_budget\"] != 0)"
   ]
  },
  {
   "cell_type": "code",
   "execution_count": 6,
   "metadata": {},
   "outputs": [],
   "source": [
    "opusdata_filter_0 = opusdata_filter_0.filter(\n",
    "    opusdata_filter_0[\"domestic_box_office\"] != 0\n",
    ")"
   ]
  },
  {
   "cell_type": "code",
   "execution_count": 7,
   "metadata": {},
   "outputs": [],
   "source": [
    "opusdata_filter_0 = opusdata_filter_0.filter(\n",
    "    opusdata_filter_0[\"international_box_office\"] != 0\n",
    ")"
   ]
  },
  {
   "cell_type": "code",
   "execution_count": 8,
   "metadata": {},
   "outputs": [],
   "source": [
    "opusdata_dropped = opusdata_filter_0.drop(\n",
    "    \"movie_odid\", \"running_time\", \"production_method\", \"creative_type\", \"source\"\n",
    ")"
   ]
  },
  {
   "cell_type": "code",
   "execution_count": 9,
   "metadata": {},
   "outputs": [],
   "source": [
    "opusdata_years = opusdata_dropped.filter(opusdata_dropped[\"production_year\"] >= 2010)"
   ]
  },
  {
   "cell_type": "code",
   "execution_count": 10,
   "metadata": {},
   "outputs": [],
   "source": [
    "opusdata_distinct = opusdata_years.dropDuplicates([\"movie_name\", \"production_year\"])"
   ]
  },
  {
   "cell_type": "code",
   "execution_count": 11,
   "metadata": {},
   "outputs": [],
   "source": [
    "opusdata_total_box_office = opusdata_distinct.withColumn(\n",
    "    \"total_box_office\",\n",
    "    opusdata_distinct[\"domestic_box_office\"]\n",
    "    + opusdata_distinct[\"international_box_office\"],\n",
    ").drop(\"domestic_box_office\", \"international_box_office\")"
   ]
  },
  {
   "cell_type": "code",
   "execution_count": 12,
   "metadata": {},
   "outputs": [],
   "source": [
    "opusdata_droppped_na = opusdata_total_box_office.na.drop(subset=[\"genre\", \"sequel\"])"
   ]
  },
  {
   "cell_type": "code",
   "execution_count": 13,
   "metadata": {},
   "outputs": [],
   "source": [
    "opusdata_droppped_na.coalesce(1).write.mode(\"overwrite\").option('header',True).csv(\n",
    "    \"hdfs://hadoop-namenode:8020/processed/opusdata_00.csv\"\n",
    ")"
   ]
  },
  {
   "cell_type": "code",
   "execution_count": null,
   "metadata": {},
   "outputs": [],
   "source": []
  },
  {
   "cell_type": "code",
   "execution_count": null,
   "metadata": {},
   "outputs": [],
   "source": []
  }
 ],
 "metadata": {
  "kernelspec": {
   "display_name": "Python (bigdata)",
   "language": "python",
   "name": "bigdata"
  },
  "language_info": {
   "codemirror_mode": {
    "name": "ipython",
    "version": 3
   },
   "file_extension": ".py",
   "mimetype": "text/x-python",
   "name": "python",
   "nbconvert_exporter": "python",
   "pygments_lexer": "ipython3",
   "version": "3.7.6"
  }
 },
 "nbformat": 4,
 "nbformat_minor": 4
}
