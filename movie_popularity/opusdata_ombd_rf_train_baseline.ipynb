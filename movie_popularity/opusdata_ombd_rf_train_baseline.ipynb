{
 "cells": [
  {
   "cell_type": "code",
   "execution_count": 1,
   "metadata": {},
   "outputs": [],
   "source": [
    "from secrets import HADOOP_USER_NAME, SPARK_URI, HADOOP_NAMENODE"
   ]
  },
  {
   "cell_type": "code",
   "execution_count": 2,
   "metadata": {},
   "outputs": [],
   "source": [
    "import os\n",
    "os.environ['HADOOP_USER_NAME'] = HADOOP_USER_NAME"
   ]
  },
  {
   "cell_type": "code",
   "execution_count": 3,
   "metadata": {},
   "outputs": [],
   "source": [
    "import pyspark.sql.functions as F\n",
    "from pyspark.ml import Pipeline\n",
    "from pyspark.ml.classification import RandomForestClassifier\n",
    "from pyspark.ml.feature import IndexToString, StringIndexer, VectorIndexer, VectorAssembler\n",
    "from pyspark.ml.evaluation import MulticlassClassificationEvaluator\n",
    "from pyspark.ml.tuning import CrossValidator, ParamGridBuilder\n",
    "\n",
    "from hdfs import InsecureClient\n",
    "from pyspark import SparkContext, SparkConf\n",
    "from pyspark.sql import SparkSession"
   ]
  },
  {
   "cell_type": "code",
   "execution_count": 4,
   "metadata": {},
   "outputs": [],
   "source": [
    "client_hdfs = InsecureClient(f'http://{HADOOP_NAMENODE}:50070', user=HADOOP_USER_NAME)"
   ]
  },
  {
   "cell_type": "code",
   "execution_count": 5,
   "metadata": {},
   "outputs": [],
   "source": [
    "# get preprocessed opusdata filename\n",
    "hdfs_path = \"/processed/opusdata_omdb_00.csv\"\n",
    "\n",
    "filename = [f for f in client_hdfs.list(hdfs_path) if f.endswith('.csv')][0]"
   ]
  },
  {
   "cell_type": "code",
   "execution_count": 6,
   "metadata": {},
   "outputs": [
    {
     "name": "stdout",
     "output_type": "stream",
     "text": [
      "['/home/utente/spark-2.4.5-bin-hadoop2.7/./bin/spark-submit', '--conf', 'spark.jars.packages=org.mongodb.spark:mongo-spark-connector_2.11:2.4.1', 'pyspark-shell'] {'CONDA_SHLVL': '2', 'LS_COLORS': 'rs=0:di=01;34:ln=01;36:mh=00:pi=40;33:so=01;35:do=01;35:bd=40;33;01:cd=40;33;01:or=40;31;01:mi=00:su=37;41:sg=30;43:ca=30;41:tw=30;42:ow=34;42:st=37;44:ex=01;32:*.tar=01;31:*.tgz=01;31:*.arc=01;31:*.arj=01;31:*.taz=01;31:*.lha=01;31:*.lz4=01;31:*.lzh=01;31:*.lzma=01;31:*.tlz=01;31:*.txz=01;31:*.tzo=01;31:*.t7z=01;31:*.zip=01;31:*.z=01;31:*.Z=01;31:*.dz=01;31:*.gz=01;31:*.lrz=01;31:*.lz=01;31:*.lzo=01;31:*.xz=01;31:*.zst=01;31:*.tzst=01;31:*.bz2=01;31:*.bz=01;31:*.tbz=01;31:*.tbz2=01;31:*.tz=01;31:*.deb=01;31:*.rpm=01;31:*.jar=01;31:*.war=01;31:*.ear=01;31:*.sar=01;31:*.rar=01;31:*.alz=01;31:*.ace=01;31:*.zoo=01;31:*.cpio=01;31:*.7z=01;31:*.rz=01;31:*.cab=01;31:*.wim=01;31:*.swm=01;31:*.dwm=01;31:*.esd=01;31:*.jpg=01;35:*.jpeg=01;35:*.mjpg=01;35:*.mjpeg=01;35:*.gif=01;35:*.bmp=01;35:*.pbm=01;35:*.pgm=01;35:*.ppm=01;35:*.tga=01;35:*.xbm=01;35:*.xpm=01;35:*.tif=01;35:*.tiff=01;35:*.png=01;35:*.svg=01;35:*.svgz=01;35:*.mng=01;35:*.pcx=01;35:*.mov=01;35:*.mpg=01;35:*.mpeg=01;35:*.m2v=01;35:*.mkv=01;35:*.webm=01;35:*.ogm=01;35:*.mp4=01;35:*.m4v=01;35:*.mp4v=01;35:*.vob=01;35:*.qt=01;35:*.nuv=01;35:*.wmv=01;35:*.asf=01;35:*.rm=01;35:*.rmvb=01;35:*.flc=01;35:*.avi=01;35:*.fli=01;35:*.flv=01;35:*.gl=01;35:*.dl=01;35:*.xcf=01;35:*.xwd=01;35:*.yuv=01;35:*.cgm=01;35:*.emf=01;35:*.ogv=01;35:*.ogx=01;35:*.aac=00;36:*.au=00;36:*.flac=00;36:*.m4a=00;36:*.mid=00;36:*.midi=00;36:*.mka=00;36:*.mp3=00;36:*.mpc=00;36:*.ogg=00;36:*.ra=00;36:*.wav=00;36:*.oga=00;36:*.opus=00;36:*.spx=00;36:*.xspf=00;36:', 'CONDA_EXE': '/home/utente/anaconda3/bin/conda', 'SSH_CONNECTION': '5.90.202.39 3252 10.0.0.8 22', 'LESSCLOSE': '/usr/bin/lesspipe %s %s', 'SPARK_YARN_USER_ENV': 'PYSPARK_PYTHON=/home/utente/anaconda3/envs/bigdata/bin/python', 'LANG': 'C.UTF-8', 'CONDA_PREFIX': '/home/utente/anaconda3/envs/bigdata', 'JAVA_HOME': '/usr', '_CE_M': '', 'XDG_SESSION_ID': '49', 'USER': 'utente', 'CONDA_PREFIX_1': '/home/utente/anaconda3', 'PWD': '/home/utente', 'HOME': '/home/utente', 'CONDA_PYTHON_EXE': '/home/utente/anaconda3/bin/python', 'LC_CTYPE': 'C.UTF-8', 'LC_TERMINAL': 'iTerm2', 'SSH_CLIENT': '5.90.202.39 3252 22', 'TMUX': '/tmp/tmux-1000/default,76869,0', 'LC_TERMINAL_VERSION': '3.3.8', 'XDG_DATA_DIRS': '/usr/local/share:/usr/share:/var/lib/snapd/desktop', '_CE_CONDA': '', 'SPARK_HOME': '/home/utente/spark-2.4.5-bin-hadoop2.7', 'CONDA_PROMPT_MODIFIER': '(bigdata) ', 'SSH_TTY': '/dev/pts/4', 'MAIL': '/var/mail/utente', 'TERM': 'xterm-color', 'SHELL': '/bin/bash', 'PYSPARK_DRIVER_PYTHON': '/home/utente/anaconda3/envs/bigdata/bin/python', 'TMUX_PANE': '%0', 'SHLVL': '2', 'LOGNAME': 'utente', 'XDG_RUNTIME_DIR': '/run/user/1000', 'PYSPARK_PYTHON': '/home/utente/anaconda3/envs/bigdata/bin/python', 'PATH': '/home/utente/anaconda3/envs/bigdata/bin:/home/utente/anaconda3/condabin:/usr/local/sbin:/usr/local/bin:/usr/sbin:/usr/bin:/sbin:/bin:/usr/games:/usr/local/games:/snap/bin', 'CONDA_DEFAULT_ENV': 'bigdata', 'LESSOPEN': '| /usr/bin/lesspipe %s', '_': '/home/utente/anaconda3/envs/bigdata/bin/jupyter', 'KERNEL_LAUNCH_TIMEOUT': '40', 'JPY_PARENT_PID': '78806', 'CLICOLOR': '1', 'PAGER': 'cat', 'GIT_PAGER': 'cat', 'MPLBACKEND': 'module://ipykernel.pylab.backend_inline', 'HADOOP_USER_NAME': 'hadoop', '_PYSPARK_DRIVER_CONN_INFO_PATH': '/tmp/tmp_mtoxyy_/tmpqlayz9eh'}\n"
     ]
    }
   ],
   "source": [
    "conf = SparkConf().set(\"spark.jars.packages\", \"org.mongodb.spark:mongo-spark-connector_2.11:2.4.1\")\n",
    "sc = SparkContext(SPARK_URI, conf=conf)\n",
    "sparkSession = SparkSession\\\n",
    "    .builder\\\n",
    "    .config(\"spark.mongodb.output.uri\", \"mongodb://127.0.0.1/bigdata.movie_popularity\") \\\n",
    "    .appName(\"RandomForestClassifierExample\")\\\n",
    "    .getOrCreate()"
   ]
  },
  {
   "cell_type": "code",
   "execution_count": 7,
   "metadata": {},
   "outputs": [],
   "source": [
    "data = sparkSession.read.csv(\n",
    "    f\"hdfs://{HADOOP_NAMENODE}:8020{hdfs_path}/{filename}\", header=True, inferSchema=True\n",
    ")\n"
   ]
  },
  {
   "cell_type": "code",
   "execution_count": 8,
   "metadata": {},
   "outputs": [],
   "source": [
    "columns_to_index = ['rating', 'genre', 'country']"
   ]
  },
  {
   "cell_type": "code",
   "execution_count": 9,
   "metadata": {
    "scrolled": true
   },
   "outputs": [
    {
     "name": "stdout",
     "output_type": "stream",
     "text": [
      "+--------------------+---------------+-----------------+------+-----------------+------+----------------+-------+--------------------+-------+----------+---------+-------------------------------+-----------------------+------------------+-----------+----+-----------------+-----------------------+----------+----------------+----------+----------------+----------+----------+----------+----------+-------+--------------+-------------+---------------+\n",
      "|          movie_name|production_year|production_budget|rating|            genre|sequel|total_box_office|runtime|            director|country|imdb_votes|  imdb_id|ratings_internet_movie_database|ratings_rotten_tomatoes|ratings_metacritic|nominations|wins|won_golden_globes|nominated_golden_globes|won_oscars|nominated_oscars|won_baftas|nominated_baftas|actor_id_0|actor_id_1|actor_id_2|actor_id_3|success|rating_indexed|genre_indexed|country_indexed|\n",
      "+--------------------+---------------+-----------------+------+-----------------+------+----------------+-------+--------------------+-------+----------+---------+-------------------------------+-----------------------+------------------+-----------+----+-----------------+-----------------------+----------+----------------+----------+----------------+----------+----------+----------+----------+-------+--------------+-------------+---------------+\n",
      "|      The Other Guys|           2010|        100000000| PG-13|           Comedy|     0|       170936470|    107|          Adam McKay|    USA|    232891|tt1386588|             0.6599999904632569|                   0.78|              0.64|         15|   3|                0|                      0|         0|               0|         0|               0|        50|       493|       601|       669|      0|           1.0|          2.0|            0.0|\n",
      "|Kingsman: The Sec...|           2014|         94000000|     R|           Action|     0|       404561724|    129|      Matthew Vaughn|     UK|    572884|tt2802144|             0.7699999809265137|                   0.74|               0.6|         27|   8|                0|                      0|         0|               0|         0|               0|       288|       771|      1180|      1396|      1|           0.0|          3.0|            1.0|\n",
      "|               Nerve|           2016|         20000000| PG-13|Thriller/Suspense|     0|        70652284|     96|         Henry Joost|    USA|    109867|tt3531824|                           0.65|                   0.67|              0.58|          5|   0|                0|                      0|         0|               0|         0|               0|        25|       331|       770|      1357|      1|           1.0|          4.0|            0.0|\n",
      "|                 LBJ|           2016|         20000000|     R|            Drama|     0|         2507181|     98|          Rob Reiner|    USA|      5270|tt4778988|                           0.65|                   0.56|              0.54|          1|   0|                0|                      0|         0|               0|         0|               0|        54|       436|       483|       944|      0|           0.0|          0.0|            0.0|\n",
      "|      Daddy’s Home 2|           2017|         70000000| PG-13|           Comedy|     1|       175807183|    100|         Sean Anders|    USA|     57075|tt5657846|                            0.6|                   0.21|               0.3|          8|   1|                0|                      0|         0|               0|         0|               0|       428|       493|       669|      1063|      1|           1.0|          2.0|            0.0|\n",
      "|             Ant-Man|           2015|        130000000| PG-13|           Action|     0|       518858449|    117|         Peyton Reed|    USA|    540523|tt0478970|             0.7300000190734863|                   0.83|              0.64|         33|   3|                0|                      0|         0|               0|         0|               1|       352|       965|       996|      1388|      1|           1.0|          3.0|            0.0|\n",
      "|     Never Let Me Go|           2010|         15000000|     R|            Drama|     0|        11173718|    103|        Mark Romanek|     UK|    134212|tt1334260|             0.7099999904632568|                    0.7|              0.69|         27|   8|                0|                      0|         0|               0|         0|               0|        87|       181|       570|      1249|      0|           0.0|          0.0|            1.0|\n",
      "|Goosebumps 2: Hau...|           2018|         35000000|    PG|           Horror|     1|        93291478|     90|          Ari Sandel|    USA|     15594|tt5664636|             0.5599999904632569|                   0.48|              0.53|          0|   0|                0|                      0|         0|               0|         0|               0|       126|       486|       939|       999|      1|           2.0|          5.0|            0.0|\n",
      "|     Eddie the Eagle|           2015|         23000000| PG-13|            Drama|     0|        45060480|    106|     Dexter Fletcher|     UK|     81284|tt1083452|             0.7400000095367432|                   0.82|              0.54|          8|   2|                0|                      0|         0|               0|         0|               0|       476|      1006|      1207|      1342|      0|           1.0|          0.0|            1.0|\n",
      "|The Dark Knight R...|           2012|        275000000| PG-13|           Action|     1|      1084439099|    164|   Christopher Nolan|     UK|   1462319|tt1345836|             0.8399999618530274|                   0.87|              0.78|        101|  38|                0|                      0|         0|               0|         0|               1|       692|       898|      1108|      1468|      1|           1.0|          3.0|            1.0|\n",
      "|          The Master|           2012|         37500000|     R|            Drama|     0|        50647416|    138|Paul Thomas Anderson|    USA|    145209|tt1560747|             0.7199999809265136|                   0.85|              0.86|        182|  76|                0|                      0|         0|               3|         0|               0|       553|       868|      1064|      1096|      0|           0.0|          0.0|            0.0|\n",
      "|Mission: Impossib...|           2011|        145000000| PG-13|           Action|     1|       694713230|    132|           Brad Bird|    USA|    443423|tt1229238|             0.7400000095367432|                   0.93|              0.73|         30|   5|                0|                      0|         0|               0|         0|               0|       797|      1109|      1135|      1212|      1|           1.0|          3.0|            0.0|\n",
      "|          About Time|           2013|         12000000|     R|  Romantic Comedy|     0|        89309178|    123|      Richard Curtis|     UK|    284685|tt2194499|             0.7800000190734864|                   0.68|              0.55|          9|   3|                0|                      0|         0|               0|         0|               0|       208|       758|       861|      1166|      1|           0.0|          6.0|            1.0|\n",
      "|      And So It Goes|           2014|         18000000| PG-13|           Comedy|     0|        17920013|     94|          Rob Reiner|    USA|     12285|tt2465146|             0.5800000190734863|                   0.18|              0.38|          1|   0|                0|                      0|         0|               0|         0|               0|        97|       642|       965|      1021|      0|           1.0|          2.0|            0.0|\n",
      "|          La La Land|           2016|         20000000| PG-13|          Musical|     0|       426683677|    128|     Damien Chazelle|    USA|    477019|tt3783958|                            0.8|                   0.91|              0.94|        287| 237|                0|                      0|         6|               0|         0|               0|        16|       315|       618|      1449|      1|           1.0|          8.0|            0.0|\n",
      "|   Horrible Bosses 2|           2014|         40000000|     R|           Comedy|     1|       105945357|    108|         Sean Anders|    USA|    152452|tt2170439|             0.6300000190734864|                   0.34|               0.4|          3|   1|                0|                      0|         0|               0|         0|               0|       698|       911|      1051|      1289|      1|           0.0|          2.0|            0.0|\n",
      "|  Going the Distance|           2010|         32000000|     R|  Romantic Comedy|     0|        43603990|    102|    Nanette Burstein|    USA|     55713|tt1322312|             0.6300000190734864|                   0.54|              0.51|          0|   0|                0|                      0|         0|               0|         0|               0|       402|       469|       911|      1289|      0|           0.0|          6.0|            0.0|\n",
      "|  Dumb and Dumber To|           2014|         40000000| PG-13|           Comedy|     1|       156553592|    109|      Bobby Farrelly|    USA|    124876|tt2096672|             0.5599999904632569|                    0.3|              0.36|          7|   1|                0|                      0|         0|               0|         0|               0|        24|       746|       945|      1301|      1|           1.0|          2.0|            0.0|\n",
      "|         Blair Witch|           2016|         10000000|     R|           Horror|     0|        38985577|     89|        Adam Wingard| Canada|     39358|tt1540011|                            0.5|                   0.37|              0.47|          7|   3|                0|                      0|         0|               0|         0|               0|       626|       959|      1068|      1171|      1|           0.0|          5.0|            3.0|\n",
      "|          Colombiana|           2011|         40000000| PG-13|Thriller/Suspense|     0|        72295262|    108|     Olivier Megaton| France|     91419|tt1657507|             0.6400000095367432|                   0.28|              0.45|          5|   2|                0|                      0|         0|               0|         0|               0|       649|      1025|      1187|      1451|      0|           1.0|          4.0|            2.0|\n",
      "+--------------------+---------------+-----------------+------+-----------------+------+----------------+-------+--------------------+-------+----------+---------+-------------------------------+-----------------------+------------------+-----------+----+-----------------+-----------------------+----------+----------------+----------+----------------+----------+----------+----------+----------+-------+--------------+-------------+---------------+\n",
      "only showing top 20 rows\n",
      "\n"
     ]
    }
   ],
   "source": [
    "for col in columns_to_index:\n",
    "    labelIndexer = StringIndexer(inputCol=col, outputCol=f\"{col}_indexed\").fit(data)\n",
    "    data = labelIndexer.transform(data)\n",
    "data.show()"
   ]
  },
  {
   "cell_type": "code",
   "execution_count": 10,
   "metadata": {},
   "outputs": [],
   "source": [
    "feature_cols = [\n",
    "    \"sequel\",\n",
    "    \"runtime\",\n",
    "    \"imdb_votes\",\n",
    "    \"ratings_internet_movie_database\",\n",
    "    \"ratings_rotten_tomatoes\",\n",
    "    \"nominations\",\n",
    "    \"wins\",\n",
    "    \"won_golden_globes\",\n",
    "    \"nominated_golden_globes\",\n",
    "    \"won_oscars\",\n",
    "    \"nominated_oscars\",\n",
    "    \"won_baftas\",\n",
    "    \"nominated_baftas\",\n",
    "    \"actor_id_0\",\n",
    "    \"actor_id_1\",\n",
    "    \"actor_id_2\",\n",
    "    \"actor_id_3\",\n",
    "    \"rating_indexed\",\n",
    "    \"genre_indexed\",\n",
    "    \"country_indexed\",\n",
    "]"
   ]
  },
  {
   "cell_type": "code",
   "execution_count": 11,
   "metadata": {},
   "outputs": [],
   "source": [
    "assembler = VectorAssembler(inputCols=feature_cols, outputCol=\"features\") \n",
    "assembled_df = assembler.setHandleInvalid(\"skip\").transform(data)"
   ]
  },
  {
   "cell_type": "code",
   "execution_count": 12,
   "metadata": {},
   "outputs": [],
   "source": [
    "# Split the data into training and test sets (30% held out for testing)\n",
    "(training_data, test_data) = assembled_df.randomSplit([0.7, 0.3], seed=1234)"
   ]
  },
  {
   "cell_type": "code",
   "execution_count": 13,
   "metadata": {},
   "outputs": [],
   "source": [
    "num_folds = 5"
   ]
  },
  {
   "cell_type": "code",
   "execution_count": 14,
   "metadata": {},
   "outputs": [],
   "source": [
    "evaluator = MulticlassClassificationEvaluator(\n",
    "    labelCol=\"success\", predictionCol=\"prediction\", metricName=\"accuracy\")"
   ]
  },
  {
   "cell_type": "code",
   "execution_count": 15,
   "metadata": {},
   "outputs": [],
   "source": [
    "# Train a RandomForest model.\n",
    "rf = RandomForestClassifier(labelCol=\"success\", featuresCol=\"features\", numTrees=500)"
   ]
  },
  {
   "cell_type": "code",
   "execution_count": 16,
   "metadata": {},
   "outputs": [],
   "source": [
    "paramGrid = (\n",
    "    ParamGridBuilder().addGrid(param=rf.numTrees, values=[100, 300, 500]).build()\n",
    ")\n",
    "\n",
    "crossval = CrossValidator(\n",
    "    estimator=rf,\n",
    "    estimatorParamMaps=paramGrid,\n",
    "    evaluator=evaluator,\n",
    "    numFolds=num_folds,\n",
    "    seed=1234,\n",
    ")"
   ]
  },
  {
   "cell_type": "code",
   "execution_count": 17,
   "metadata": {},
   "outputs": [],
   "source": [
    "model = crossval.fit(training_data)"
   ]
  },
  {
   "cell_type": "code",
   "execution_count": 18,
   "metadata": {},
   "outputs": [],
   "source": [
    "predictions_train = model.transform(training_data)"
   ]
  },
  {
   "cell_type": "code",
   "execution_count": 19,
   "metadata": {},
   "outputs": [],
   "source": [
    "predictions_test = model.transform(test_data)"
   ]
  },
  {
   "cell_type": "code",
   "execution_count": 20,
   "metadata": {},
   "outputs": [
    {
     "name": "stdout",
     "output_type": "stream",
     "text": [
      "+--------------------+---------+----------+--------------------+\n",
      "|          movie_name|  imdb_id|prediction|         probability|\n",
      "+--------------------+---------+----------+--------------------+\n",
      "|  30 Minutes or Less|tt1622547|       0.0|[0.55247573694000...|\n",
      "|            47 Ronin|tt1335975|       1.0|[0.49470116593373...|\n",
      "|       5 Days of War|tt1486193|       0.0|[0.78503742920047...|\n",
      "|A Bad Moms Christmas|tt6359956|       1.0|[0.26140076374327...|\n",
      "|  A Dangerous Method|tt1571222|       1.0|[0.46332827877048...|\n",
      "+--------------------+---------+----------+--------------------+\n",
      "only showing top 5 rows\n",
      "\n"
     ]
    }
   ],
   "source": [
    "predictions_train.select('movie_name', 'imdb_id', 'prediction', 'probability').show(5)"
   ]
  },
  {
   "cell_type": "code",
   "execution_count": 21,
   "metadata": {},
   "outputs": [
    {
     "data": {
      "text/plain": [
       "Row(probability=DenseVector([0.1079, 0.8921]))"
      ]
     },
     "execution_count": 21,
     "metadata": {},
     "output_type": "execute_result"
    }
   ],
   "source": [
    "predictions_test.select('probability').collect()[0]"
   ]
  },
  {
   "cell_type": "code",
   "execution_count": 22,
   "metadata": {},
   "outputs": [
    {
     "name": "stdout",
     "output_type": "stream",
     "text": [
      "Train Accuracy = 0.847727\n"
     ]
    }
   ],
   "source": [
    "accuracy = evaluator.evaluate(predictions_train)\n",
    "print(\"Train Accuracy = %g\" % (accuracy))"
   ]
  },
  {
   "cell_type": "code",
   "execution_count": 23,
   "metadata": {},
   "outputs": [
    {
     "name": "stdout",
     "output_type": "stream",
     "text": [
      "Test Accuracy = 0.741379\n"
     ]
    }
   ],
   "source": [
    "accuracy = evaluator.evaluate(predictions_test)\n",
    "print(\"Test Accuracy = %g\" % (accuracy))"
   ]
  },
  {
   "cell_type": "code",
   "execution_count": 24,
   "metadata": {},
   "outputs": [],
   "source": [
    "best_model = model.bestModel"
   ]
  },
  {
   "cell_type": "code",
   "execution_count": 25,
   "metadata": {},
   "outputs": [],
   "source": [
    "feat_importances = list(((col, imp) for col, imp in zip(feature_cols, best_model.featureImportances.values)))"
   ]
  },
  {
   "cell_type": "code",
   "execution_count": 26,
   "metadata": {},
   "outputs": [],
   "source": [
    "feat_importances.sort(key=lambda x: x[1], reverse=True)"
   ]
  },
  {
   "cell_type": "code",
   "execution_count": 27,
   "metadata": {},
   "outputs": [
    {
     "data": {
      "text/plain": [
       "[('imdb_votes', 0.2226554191538051),\n",
       " ('genre_indexed', 0.13307773276872722),\n",
       " ('nominations', 0.09781662859600385),\n",
       " ('sequel', 0.07678091299930563),\n",
       " ('rating_indexed', 0.06798217197761458),\n",
       " ('ratings_rotten_tomatoes', 0.060881318087953364),\n",
       " ('runtime', 0.05349233605587218),\n",
       " ('ratings_internet_movie_database', 0.050968474060129054),\n",
       " ('wins', 0.049490174589421815),\n",
       " ('actor_id_2', 0.041136655326437954),\n",
       " ('actor_id_1', 0.038232649195723716),\n",
       " ('actor_id_0', 0.03805951472506702),\n",
       " ('nominated_baftas', 0.03547734677419303),\n",
       " ('actor_id_3', 0.017780239310818832),\n",
       " ('won_oscars', 0.010660738892726791),\n",
       " ('nominated_oscars', 0.003745221762519059),\n",
       " ('nominated_golden_globes', 0.0015829076275183243),\n",
       " ('won_golden_globes', 9.61421132707854e-05),\n",
       " ('won_baftas', 8.341598289149327e-05)]"
      ]
     },
     "execution_count": 27,
     "metadata": {},
     "output_type": "execute_result"
    }
   ],
   "source": [
    "feat_importances"
   ]
  },
  {
   "cell_type": "code",
   "execution_count": 28,
   "metadata": {},
   "outputs": [],
   "source": [
    "predictions_train_clean = predictions_train.select('movie_name', 'imdb_id', predictions_train['prediction'].cast('integer')) \n",
    "predictions_test_clean = predictions_test.select('movie_name', 'imdb_id',  predictions_test['prediction'].cast('integer')) "
   ]
  },
  {
   "cell_type": "code",
   "execution_count": 29,
   "metadata": {},
   "outputs": [
    {
     "name": "stdout",
     "output_type": "stream",
     "text": [
      "+--------------------+---------+----------+\n",
      "|          movie_name|  imdb_id|prediction|\n",
      "+--------------------+---------+----------+\n",
      "|  30 Minutes or Less|tt1622547|         0|\n",
      "|            47 Ronin|tt1335975|         1|\n",
      "|       5 Days of War|tt1486193|         0|\n",
      "|A Bad Moms Christmas|tt6359956|         1|\n",
      "|  A Dangerous Method|tt1571222|         1|\n",
      "|A Million Ways to...|tt2557490|         1|\n",
      "|     A Monster Calls|tt3416532|         0|\n",
      "| A Most Violent Year|tt2937898|         0|\n",
      "|   A Most Wanted Man|tt1972571|         0|\n",
      "|A Nightmare on El...|tt1179056|         1|\n",
      "|          About Time|tt2194499|         1|\n",
      "|          Alex Cross|tt1712170|         0|\n",
      "|Alice Through the...|tt2567026|         1|\n",
      "| Alice in Wonderland|tt1014759|         1|\n",
      "|     All Good Things|tt1175709|         0|\n",
      "|              Allied|tt3640424|         1|\n",
      "|    Almost Christmas|tt4649416|         0|\n",
      "|Alvin and the Chi...|tt1615918|         1|\n",
      "|     American Hustle|tt1800241|         1|\n",
      "|       American Made|tt3532216|         1|\n",
      "+--------------------+---------+----------+\n",
      "only showing top 20 rows\n",
      "\n"
     ]
    }
   ],
   "source": [
    "predictions_train_clean.show()"
   ]
  },
  {
   "cell_type": "code",
   "execution_count": 30,
   "metadata": {},
   "outputs": [],
   "source": [
    "predictions_clean = predictions_train_clean.unionByName(predictions_test_clean)"
   ]
  },
  {
   "cell_type": "code",
   "execution_count": 31,
   "metadata": {},
   "outputs": [],
   "source": [
    "predictions_clean = predictions_clean.withColumn(\"updated_on\", F.current_date())"
   ]
  },
  {
   "cell_type": "code",
   "execution_count": 32,
   "metadata": {},
   "outputs": [
    {
     "name": "stdout",
     "output_type": "stream",
     "text": [
      "+--------------------+---------+----------+----------+\n",
      "|          movie_name|  imdb_id|prediction|updated_on|\n",
      "+--------------------+---------+----------+----------+\n",
      "|  30 Minutes or Less|tt1622547|         0|2020-05-28|\n",
      "|            47 Ronin|tt1335975|         1|2020-05-28|\n",
      "|       5 Days of War|tt1486193|         0|2020-05-28|\n",
      "|A Bad Moms Christmas|tt6359956|         1|2020-05-28|\n",
      "|  A Dangerous Method|tt1571222|         1|2020-05-28|\n",
      "|A Million Ways to...|tt2557490|         1|2020-05-28|\n",
      "|     A Monster Calls|tt3416532|         0|2020-05-28|\n",
      "| A Most Violent Year|tt2937898|         0|2020-05-28|\n",
      "|   A Most Wanted Man|tt1972571|         0|2020-05-28|\n",
      "|A Nightmare on El...|tt1179056|         1|2020-05-28|\n",
      "|          About Time|tt2194499|         1|2020-05-28|\n",
      "|          Alex Cross|tt1712170|         0|2020-05-28|\n",
      "|Alice Through the...|tt2567026|         1|2020-05-28|\n",
      "| Alice in Wonderland|tt1014759|         1|2020-05-28|\n",
      "|     All Good Things|tt1175709|         0|2020-05-28|\n",
      "|              Allied|tt3640424|         1|2020-05-28|\n",
      "|    Almost Christmas|tt4649416|         0|2020-05-28|\n",
      "|Alvin and the Chi...|tt1615918|         1|2020-05-28|\n",
      "|     American Hustle|tt1800241|         1|2020-05-28|\n",
      "|       American Made|tt3532216|         1|2020-05-28|\n",
      "+--------------------+---------+----------+----------+\n",
      "only showing top 20 rows\n",
      "\n"
     ]
    }
   ],
   "source": [
    "predictions_clean.show()"
   ]
  },
  {
   "cell_type": "code",
   "execution_count": 33,
   "metadata": {},
   "outputs": [],
   "source": [
    "predictions_clean.write.format(\"mongo\").mode(\"append\").save()"
   ]
  },
  {
   "cell_type": "code",
   "execution_count": null,
   "metadata": {},
   "outputs": [],
   "source": []
  }
 ],
 "metadata": {
  "kernelspec": {
   "display_name": "Python (bigdata)",
   "language": "python",
   "name": "bigdata"
  },
  "language_info": {
   "codemirror_mode": {
    "name": "ipython",
    "version": 3
   },
   "file_extension": ".py",
   "mimetype": "text/x-python",
   "name": "python",
   "nbconvert_exporter": "python",
   "pygments_lexer": "ipython3",
   "version": "3.7.6"
  }
 },
 "nbformat": 4,
 "nbformat_minor": 4
}
