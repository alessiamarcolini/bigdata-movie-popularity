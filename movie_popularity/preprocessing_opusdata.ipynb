{
 "cells": [
  {
   "cell_type": "code",
   "execution_count": 1,
   "metadata": {},
   "outputs": [],
   "source": [
    "from secrets import HADOOP_USER_NAME, SPARK_URI, HADOOP_NAMENODE"
   ]
  },
  {
   "cell_type": "code",
   "execution_count": null,
   "metadata": {},
   "outputs": [],
   "source": []
  },
  {
   "cell_type": "code",
   "execution_count": 2,
   "metadata": {},
   "outputs": [],
   "source": [
    "import os\n",
    "os.environ['HADOOP_USER_NAME'] = HADOOP_USER_NAME"
   ]
  },
  {
   "cell_type": "code",
   "execution_count": null,
   "metadata": {},
   "outputs": [],
   "source": []
  },
  {
   "cell_type": "code",
   "execution_count": 3,
   "metadata": {},
   "outputs": [],
   "source": [
    "import pyspark\n",
    "from pyspark.sql import SparkSession\n",
    "from pyspark import SparkContext\n",
    "import pyspark.sql.functions as F\n",
    "import pyspark.sql.types as t"
   ]
  },
  {
   "cell_type": "code",
   "execution_count": 4,
   "metadata": {},
   "outputs": [
    {
     "name": "stdout",
     "output_type": "stream",
     "text": [
      "['/home/utente/spark-2.4.5-bin-hadoop2.7/./bin/spark-submit', 'pyspark-shell'] {'CONDA_SHLVL': '2', 'LS_COLORS': 'rs=0:di=01;34:ln=01;36:mh=00:pi=40;33:so=01;35:do=01;35:bd=40;33;01:cd=40;33;01:or=40;31;01:mi=00:su=37;41:sg=30;43:ca=30;41:tw=30;42:ow=34;42:st=37;44:ex=01;32:*.tar=01;31:*.tgz=01;31:*.arc=01;31:*.arj=01;31:*.taz=01;31:*.lha=01;31:*.lz4=01;31:*.lzh=01;31:*.lzma=01;31:*.tlz=01;31:*.txz=01;31:*.tzo=01;31:*.t7z=01;31:*.zip=01;31:*.z=01;31:*.Z=01;31:*.dz=01;31:*.gz=01;31:*.lrz=01;31:*.lz=01;31:*.lzo=01;31:*.xz=01;31:*.zst=01;31:*.tzst=01;31:*.bz2=01;31:*.bz=01;31:*.tbz=01;31:*.tbz2=01;31:*.tz=01;31:*.deb=01;31:*.rpm=01;31:*.jar=01;31:*.war=01;31:*.ear=01;31:*.sar=01;31:*.rar=01;31:*.alz=01;31:*.ace=01;31:*.zoo=01;31:*.cpio=01;31:*.7z=01;31:*.rz=01;31:*.cab=01;31:*.wim=01;31:*.swm=01;31:*.dwm=01;31:*.esd=01;31:*.jpg=01;35:*.jpeg=01;35:*.mjpg=01;35:*.mjpeg=01;35:*.gif=01;35:*.bmp=01;35:*.pbm=01;35:*.pgm=01;35:*.ppm=01;35:*.tga=01;35:*.xbm=01;35:*.xpm=01;35:*.tif=01;35:*.tiff=01;35:*.png=01;35:*.svg=01;35:*.svgz=01;35:*.mng=01;35:*.pcx=01;35:*.mov=01;35:*.mpg=01;35:*.mpeg=01;35:*.m2v=01;35:*.mkv=01;35:*.webm=01;35:*.ogm=01;35:*.mp4=01;35:*.m4v=01;35:*.mp4v=01;35:*.vob=01;35:*.qt=01;35:*.nuv=01;35:*.wmv=01;35:*.asf=01;35:*.rm=01;35:*.rmvb=01;35:*.flc=01;35:*.avi=01;35:*.fli=01;35:*.flv=01;35:*.gl=01;35:*.dl=01;35:*.xcf=01;35:*.xwd=01;35:*.yuv=01;35:*.cgm=01;35:*.emf=01;35:*.ogv=01;35:*.ogx=01;35:*.aac=00;36:*.au=00;36:*.flac=00;36:*.m4a=00;36:*.mid=00;36:*.midi=00;36:*.mka=00;36:*.mp3=00;36:*.mpc=00;36:*.ogg=00;36:*.ra=00;36:*.wav=00;36:*.oga=00;36:*.opus=00;36:*.spx=00;36:*.xspf=00;36:', 'CONDA_EXE': '/home/utente/anaconda3/bin/conda', 'SSH_CONNECTION': '5.90.202.39 3252 10.0.0.8 22', 'LESSCLOSE': '/usr/bin/lesspipe %s %s', 'SPARK_YARN_USER_ENV': 'PYSPARK_PYTHON=/home/utente/anaconda3/envs/bigdata/bin/python', 'LANG': 'C.UTF-8', 'CONDA_PREFIX': '/home/utente/anaconda3/envs/bigdata', 'JAVA_HOME': '/usr', '_CE_M': '', 'XDG_SESSION_ID': '49', 'USER': 'utente', 'CONDA_PREFIX_1': '/home/utente/anaconda3', 'PWD': '/home/utente', 'HOME': '/home/utente', 'CONDA_PYTHON_EXE': '/home/utente/anaconda3/bin/python', 'LC_CTYPE': 'C.UTF-8', 'LC_TERMINAL': 'iTerm2', 'SSH_CLIENT': '5.90.202.39 3252 22', 'TMUX': '/tmp/tmux-1000/default,76869,0', 'LC_TERMINAL_VERSION': '3.3.8', 'XDG_DATA_DIRS': '/usr/local/share:/usr/share:/var/lib/snapd/desktop', '_CE_CONDA': '', 'SPARK_HOME': '/home/utente/spark-2.4.5-bin-hadoop2.7', 'CONDA_PROMPT_MODIFIER': '(bigdata) ', 'SSH_TTY': '/dev/pts/4', 'MAIL': '/var/mail/utente', 'TERM': 'xterm-color', 'SHELL': '/bin/bash', 'PYSPARK_DRIVER_PYTHON': '/home/utente/anaconda3/envs/bigdata/bin/python', 'TMUX_PANE': '%0', 'SHLVL': '2', 'LOGNAME': 'utente', 'XDG_RUNTIME_DIR': '/run/user/1000', 'PYSPARK_PYTHON': '/home/utente/anaconda3/envs/bigdata/bin/python', 'PATH': '/home/utente/anaconda3/envs/bigdata/bin:/home/utente/anaconda3/condabin:/usr/local/sbin:/usr/local/bin:/usr/sbin:/usr/bin:/sbin:/bin:/usr/games:/usr/local/games:/snap/bin', 'CONDA_DEFAULT_ENV': 'bigdata', 'LESSOPEN': '| /usr/bin/lesspipe %s', '_': '/home/utente/anaconda3/envs/bigdata/bin/jupyter', 'KERNEL_LAUNCH_TIMEOUT': '40', 'JPY_PARENT_PID': '78806', 'CLICOLOR': '1', 'PAGER': 'cat', 'GIT_PAGER': 'cat', 'MPLBACKEND': 'module://ipykernel.pylab.backend_inline', 'HADOOP_USER_NAME': 'hadoop', '_PYSPARK_DRIVER_CONN_INFO_PATH': '/tmp/tmpesbckpts/tmpi5497i02'}\n"
     ]
    }
   ],
   "source": [
    "sc = SparkContext(SPARK_URI)\n",
    "sparkSession = (\n",
    "    SparkSession.builder.appName(\"processing-opusdata\")\n",
    "    .config(\"spark.hadoop.dfs.client.use.datanode.hostname\", \"true\")\n",
    "    .getOrCreate()\n",
    ")"
   ]
  },
  {
   "cell_type": "code",
   "execution_count": null,
   "metadata": {},
   "outputs": [],
   "source": [
    "# Read from hdfs\n",
    "opusdata = sparkSession.read.csv(\n",
    "    f\"hdfs://{HADOOP_NAMENODE}:8020/raw/opusdata.csv\", header=True, inferSchema=True\n",
    ")\n",
    "opusdata.show()\n",
    "\n",
    "# sc = spark.sparkContext"
   ]
  },
  {
   "cell_type": "code",
   "execution_count": null,
   "metadata": {},
   "outputs": [],
   "source": [
    "opusdata_filter_0 = opusdata.filter(opusdata[\"production_budget\"] != 0)"
   ]
  },
  {
   "cell_type": "code",
   "execution_count": null,
   "metadata": {},
   "outputs": [],
   "source": [
    "opusdata_filter_0 = opusdata_filter_0.filter(\n",
    "    opusdata_filter_0[\"domestic_box_office\"] != 0\n",
    ")"
   ]
  },
  {
   "cell_type": "code",
   "execution_count": null,
   "metadata": {},
   "outputs": [],
   "source": [
    "opusdata_filter_0 = opusdata_filter_0.filter(\n",
    "    opusdata_filter_0[\"international_box_office\"] != 0\n",
    ")"
   ]
  },
  {
   "cell_type": "code",
   "execution_count": null,
   "metadata": {},
   "outputs": [],
   "source": [
    "opusdata_dropped = opusdata_filter_0.drop(\n",
    "    \"movie_odid\", \"running_time\", \"production_method\", \"creative_type\", \"source\"\n",
    ")"
   ]
  },
  {
   "cell_type": "code",
   "execution_count": null,
   "metadata": {},
   "outputs": [],
   "source": [
    "opusdata_years = opusdata_dropped.filter(opusdata_dropped[\"production_year\"] >= 2010)"
   ]
  },
  {
   "cell_type": "code",
   "execution_count": null,
   "metadata": {},
   "outputs": [],
   "source": [
    "opusdata_distinct = opusdata_years.dropDuplicates([\"movie_name\", \"production_year\"])"
   ]
  },
  {
   "cell_type": "code",
   "execution_count": null,
   "metadata": {},
   "outputs": [],
   "source": [
    "opusdata_total_box_office = opusdata_distinct.withColumn(\n",
    "    \"total_box_office\",\n",
    "    opusdata_distinct[\"domestic_box_office\"]\n",
    "    + opusdata_distinct[\"international_box_office\"],\n",
    ").drop(\"domestic_box_office\", \"international_box_office\")"
   ]
  },
  {
   "cell_type": "code",
   "execution_count": null,
   "metadata": {},
   "outputs": [],
   "source": [
    "opusdata_droppped_na = opusdata_total_box_office.na.drop(subset=[\"genre\", \"sequel\"])"
   ]
  },
  {
   "cell_type": "markdown",
   "metadata": {},
   "source": [
    "### Get \"success\" [1]\n",
    "[1] _Rhee, Travis Ginmu, and Farhana Zulkernine. \"Predicting movie box office profitability: A neural network approach.\" 2016 15th IEEE International Conference on Machine Learning and Applications (ICMLA). IEEE, 2016._\n",
    "\n",
    "Profit = (1⁄2 * total_box_office) – production_budget"
   ]
  },
  {
   "cell_type": "code",
   "execution_count": null,
   "metadata": {},
   "outputs": [],
   "source": [
    "@F.udf(returnType=t.IntegerType())\n",
    "def success(arguments):\n",
    "    total_box_office, production_budget = arguments\n",
    "    \n",
    "    profit = (0.5 * total_box_office) - production_budget\n",
    "    profit_censored = 1 if profit > 0 else 0\n",
    "    return profit_censored"
   ]
  },
  {
   "cell_type": "code",
   "execution_count": null,
   "metadata": {},
   "outputs": [],
   "source": [
    "opusdata_success = opusdata_droppped_na.withColumn(\n",
    "    \"success\", success(F.array(\"total_box_office\", \"production_budget\")))"
   ]
  },
  {
   "cell_type": "code",
   "execution_count": null,
   "metadata": {},
   "outputs": [],
   "source": [
    "opusdata_success.repartition(1).write.mode(\"overwrite\").option('header',True).csv(\n",
    "    f\"hdfs://{HADOOP_NAMENODE}:8020/processed/opusdata.csv\"\n",
    ")"
   ]
  },
  {
   "cell_type": "code",
   "execution_count": null,
   "metadata": {},
   "outputs": [],
   "source": []
  }
 ],
 "metadata": {
  "kernelspec": {
   "display_name": "Python (bigdata)",
   "language": "python",
   "name": "bigdata"
  },
  "language_info": {
   "codemirror_mode": {
    "name": "ipython",
    "version": 3
   },
   "file_extension": ".py",
   "mimetype": "text/x-python",
   "name": "python",
   "nbconvert_exporter": "python",
   "pygments_lexer": "ipython3",
   "version": "3.7.6"
  }
 },
 "nbformat": 4,
 "nbformat_minor": 4
}
