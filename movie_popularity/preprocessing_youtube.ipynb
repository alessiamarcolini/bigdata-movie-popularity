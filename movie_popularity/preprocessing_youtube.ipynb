{
 "cells": [
  {
   "cell_type": "code",
   "execution_count": null,
   "metadata": {},
   "outputs": [],
   "source": [
    "import os\n",
    "\n",
    "import google_auth_oauthlib.flow\n",
    "from hdfs import InsecureClient\n",
    "import pyspark\n",
    "from pyspark.sql import SparkSession\n",
    "from pyspark import SparkContext\n",
    "import pyspark.sql.functions as F\n",
    "import pyspark.sql.types as t\n",
    "\n",
    "import youtube_utils\n",
    "from secrets import YOUTUBE_CLIENT_SECRET_FILENAME, HADOOP_USER_NAME, SPARK_URI, HADOOP_NAMENODE"
   ]
  },
  {
   "cell_type": "code",
   "execution_count": null,
   "metadata": {},
   "outputs": [],
   "source": [
    "os.environ['HADOOP_USER_NAME'] = HADOOP_USER_NAME"
   ]
  },
  {
   "cell_type": "code",
   "execution_count": null,
   "metadata": {},
   "outputs": [],
   "source": [
    "client_hdfs = InsecureClient(f'http://{HADOOP_NAMENODE}:50070', user=HADOOP_USER_NAME)"
   ]
  },
  {
   "cell_type": "code",
   "execution_count": null,
   "metadata": {},
   "outputs": [],
   "source": [
    "# get preprocessed opusdata filename\n",
    "hdfs_path = \"/processed/opusdata_omdb.csv\"\n",
    "\n",
    "filename = [f for f in client_hdfs.list(hdfs_path) if f.endswith(\".csv\")][0]"
   ]
  },
  {
   "cell_type": "code",
   "execution_count": null,
   "metadata": {},
   "outputs": [],
   "source": [
    "sc = SparkContext(SPARK_URI)\n",
    "sparkSession = (\n",
    "    SparkSession.builder.appName(\"example-pyspark-read-and-write\")\n",
    "    .config(\"spark.hadoop.dfs.client.use.datanode.hostname\", \"true\")\n",
    "    .getOrCreate()\n",
    ")"
   ]
  },
  {
   "cell_type": "code",
   "execution_count": null,
   "metadata": {},
   "outputs": [],
   "source": [
    "# Read from hdfs\n",
    "opusdata_omdb = sparkSession.read.csv(\n",
    "    f\"hdfs://{HADOOP_NAMENODE}:8020{hdfs_path}/{filename}\",\n",
    "    header=True,\n",
    "    inferSchema=True,\n",
    ")"
   ]
  },
  {
   "cell_type": "code",
   "execution_count": null,
   "metadata": {
    "scrolled": true
   },
   "outputs": [],
   "source": [
    "opusdata_omdb.show()"
   ]
  },
  {
   "cell_type": "code",
   "execution_count": null,
   "metadata": {},
   "outputs": [],
   "source": [
    "scopes = [\"https://www.googleapis.com/auth/youtube.readonly\"]"
   ]
  },
  {
   "cell_type": "code",
   "execution_count": null,
   "metadata": {},
   "outputs": [],
   "source": [
    "# Disable OAuthlib's HTTPS verification when running locally.\n",
    "# *DO NOT* leave this option enabled in production.\n",
    "os.environ[\"OAUTHLIB_INSECURE_TRANSPORT\"] = \"1\"\n",
    "\n",
    "api_service_name = \"youtube\"\n",
    "api_version = \"v3\"\n",
    "\n",
    "# Get credentials and create an API client\n",
    "flow = google_auth_oauthlib.flow.InstalledAppFlow.from_client_secrets_file(\n",
    "    YOUTUBE_CLIENT_SECRET_FILENAME, scopes\n",
    ")\n",
    "\n",
    "youtube = youtube_utils.get_authenticated_service(api_service_name, api_version, scopes)"
   ]
  },
  {
   "cell_type": "code",
   "execution_count": null,
   "metadata": {},
   "outputs": [],
   "source": [
    "@F.udf(returnType=t.StringType())\n",
    "def id_from_title(movie_name):\n",
    "    request = youtube.search().list(part=\"snippet\", q=f\"{movie_name} official trailer\")\n",
    "    response = request.execute()\n",
    "    available_videos = response[\"items\"]\n",
    "\n",
    "    for video in available_videos:\n",
    "        try:\n",
    "            kind = video[\"id\"][\"kind\"]\n",
    "            if kind == \"youtube#video\":\n",
    "                video_id = video[\"id\"][\"videoId\"]\n",
    "                return video_id\n",
    "\n",
    "        except KeyError as e:\n",
    "            return None\n",
    "\n",
    "    return None"
   ]
  },
  {
   "cell_type": "code",
   "execution_count": null,
   "metadata": {},
   "outputs": [],
   "source": [
    "schema = t.StructType(\n",
    "    [\n",
    "        t.StructField(\"youtube_view_count\", t.StringType(), True),\n",
    "        t.StructField(\"youtube_engagement_score\", t.StringType(), True),\n",
    "        t.StructField(\"youtube_positive_engagement_score\", t.StringType(), True),\n",
    "    ]\n",
    ")"
   ]
  },
  {
   "cell_type": "code",
   "execution_count": null,
   "metadata": {},
   "outputs": [],
   "source": [
    "@F.udf(returnType=schema)\n",
    "def stats_from_id(video_id):\n",
    "    if not video_id:\n",
    "        return None, None, None\n",
    "    request = youtube.videos().list(part=\"statistics\", id=video_id)\n",
    "    response = request.execute()\n",
    "\n",
    "    try:\n",
    "        stats = response[\"items\"][0][\"statistics\"]\n",
    "\n",
    "        view_count = int(stats[\"viewCount\"])\n",
    "        like_count = int(stats[\"likeCount\"])\n",
    "        dislike_count = int(stats[\"dislikeCount\"])\n",
    "\n",
    "    except KeyError as e:\n",
    "        return None, None, None\n",
    "\n",
    "    engagement_score = (like_count + dislike_count) / view_count\n",
    "    positive_engagement_score = like_count / dislike_count\n",
    "\n",
    "    return t.Row(\n",
    "        \"youtube_view_count\",\n",
    "        \"youtube_engagement_score\",\n",
    "        \"youtube_positive_engagement_score\",\n",
    "    )(view_count, engagement_score, positive_engagement_score)"
   ]
  },
  {
   "cell_type": "code",
   "execution_count": null,
   "metadata": {},
   "outputs": [],
   "source": [
    "opusdata_youtube = opusdata_omdb.withColumn(\n",
    "    \"youtube_video_id\", id_from_title(\"movie_name\")\n",
    ")"
   ]
  },
  {
   "cell_type": "code",
   "execution_count": null,
   "metadata": {
    "scrolled": true
   },
   "outputs": [],
   "source": [
    "opusdata_youtube.show()"
   ]
  },
  {
   "cell_type": "code",
   "execution_count": null,
   "metadata": {},
   "outputs": [],
   "source": []
  }
 ],
 "metadata": {
  "kernelspec": {
   "display_name": "Python (bigdata)",
   "language": "python",
   "name": "bigdata"
  },
  "language_info": {
   "codemirror_mode": {
    "name": "ipython",
    "version": 3
   },
   "file_extension": ".py",
   "mimetype": "text/x-python",
   "name": "python",
   "nbconvert_exporter": "python",
   "pygments_lexer": "ipython3",
   "version": "3.7.6"
  }
 },
 "nbformat": 4,
 "nbformat_minor": 4
}
