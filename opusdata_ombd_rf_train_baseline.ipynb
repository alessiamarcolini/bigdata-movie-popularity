{
 "cells": [
  {
   "cell_type": "code",
   "execution_count": 1,
   "metadata": {},
   "outputs": [],
   "source": [
    "from secrets import HADOOP_USER_NAME, SPARK_URI, HADOOP_NAMENODE"
   ]
  },
  {
   "cell_type": "code",
   "execution_count": 2,
   "metadata": {},
   "outputs": [],
   "source": [
    "import os\n",
    "os.environ['HADOOP_USER_NAME'] = HADOOP_USER_NAME"
   ]
  },
  {
   "cell_type": "code",
   "execution_count": 3,
   "metadata": {},
   "outputs": [],
   "source": [
    "from pyspark.ml import Pipeline\n",
    "from pyspark.ml.classification import RandomForestClassifier\n",
    "from pyspark.ml.feature import IndexToString, StringIndexer, VectorIndexer, VectorAssembler\n",
    "from pyspark.ml.evaluation import MulticlassClassificationEvaluator\n",
    "from pyspark.ml.tuning import CrossValidator, ParamGridBuilder\n",
    "\n",
    "from hdfs import InsecureClient\n",
    "from pyspark import SparkContext\n",
    "from pyspark.sql import SparkSession"
   ]
  },
  {
   "cell_type": "code",
   "execution_count": 4,
   "metadata": {},
   "outputs": [],
   "source": [
    "client_hdfs = InsecureClient(f'http://{HADOOP_NAMENODE}:50070', user=HADOOP_USER_NAME)"
   ]
  },
  {
   "cell_type": "code",
   "execution_count": 5,
   "metadata": {},
   "outputs": [],
   "source": [
    "# get preprocessed opusdata filename\n",
    "hdfs_path = \"/processed/opusdata_omdb_00.csv\"\n",
    "\n",
    "filename = [f for f in client_hdfs.list(hdfs_path) if f.endswith('.csv')][0]"
   ]
  },
  {
   "cell_type": "code",
   "execution_count": 6,
   "metadata": {},
   "outputs": [],
   "source": [
    "sc = SparkContext(SPARK_URI)\n",
    "sparkSession = SparkSession\\\n",
    "    .builder\\\n",
    "    .appName(\"RandomForestClassifierExample\")\\\n",
    "    .getOrCreate()"
   ]
  },
  {
   "cell_type": "code",
   "execution_count": 7,
   "metadata": {},
   "outputs": [],
   "source": [
    "data = sparkSession.read.csv(\n",
    "    f\"hdfs://{HADOOP_NAMENODE}:8020{hdfs_path}/{filename}\", header=True, inferSchema=True\n",
    ")\n"
   ]
  },
  {
   "cell_type": "code",
   "execution_count": 8,
   "metadata": {},
   "outputs": [],
   "source": [
    "columns_to_index = ['rating', 'genre', 'country']"
   ]
  },
  {
   "cell_type": "code",
   "execution_count": 9,
   "metadata": {
    "scrolled": true
   },
   "outputs": [
    {
     "name": "stdout",
     "output_type": "stream",
     "text": [
      "+--------------------+---------------+-----------------+------+-----------------+------+----------------+-------+--------------------+-------+----------+---------+-------------------------------+-----------------------+------------------+-----------+----+-----------------+-----------------------+----------+----------------+----------+----------------+----------+----------+----------+----------+-------+--------------+-------------+---------------+\n",
      "|          movie_name|production_year|production_budget|rating|            genre|sequel|total_box_office|runtime|            director|country|imdb_votes|  imdb_id|ratings_internet_movie_database|ratings_rotten_tomatoes|ratings_metacritic|nominations|wins|won_golden_globes|nominated_golden_globes|won_oscars|nominated_oscars|won_baftas|nominated_baftas|actor_id_0|actor_id_1|actor_id_2|actor_id_3|success|rating_indexed|genre_indexed|country_indexed|\n",
      "+--------------------+---------------+-----------------+------+-----------------+------+----------------+-------+--------------------+-------+----------+---------+-------------------------------+-----------------------+------------------+-----------+----+-----------------+-----------------------+----------+----------------+----------+----------------+----------+----------+----------+----------+-------+--------------+-------------+---------------+\n",
      "|      The Other Guys|           2010|        100000000| PG-13|           Comedy|     0|       170936470|    107|          Adam McKay|    USA|    232891|tt1386588|             0.6599999904632569|                   0.78|              0.64|         15|   3|                0|                      0|         0|               0|         0|               0|        50|       493|       601|       669|      0|           1.0|          2.0|            0.0|\n",
      "|Kingsman: The Sec...|           2014|         94000000|     R|           Action|     0|       404561724|    129|      Matthew Vaughn|     UK|    572884|tt2802144|             0.7699999809265137|                   0.74|               0.6|         27|   8|                0|                      0|         0|               0|         0|               0|       288|       771|      1180|      1396|      1|           0.0|          3.0|            1.0|\n",
      "|               Nerve|           2016|         20000000| PG-13|Thriller/Suspense|     0|        70652284|     96|         Henry Joost|    USA|    109867|tt3531824|                           0.65|                   0.67|              0.58|          5|   0|                0|                      0|         0|               0|         0|               0|        25|       331|       770|      1357|      1|           1.0|          4.0|            0.0|\n",
      "|                 LBJ|           2016|         20000000|     R|            Drama|     0|         2507181|     98|          Rob Reiner|    USA|      5270|tt4778988|                           0.65|                   0.56|              0.54|          1|   0|                0|                      0|         0|               0|         0|               0|        54|       436|       483|       944|      0|           0.0|          0.0|            0.0|\n",
      "|      Daddy’s Home 2|           2017|         70000000| PG-13|           Comedy|     1|       175807183|    100|         Sean Anders|    USA|     57075|tt5657846|                            0.6|                   0.21|               0.3|          8|   1|                0|                      0|         0|               0|         0|               0|       428|       493|       669|      1063|      1|           1.0|          2.0|            0.0|\n",
      "|             Ant-Man|           2015|        130000000| PG-13|           Action|     0|       518858449|    117|         Peyton Reed|    USA|    540523|tt0478970|             0.7300000190734863|                   0.83|              0.64|         33|   3|                0|                      0|         0|               0|         0|               1|       352|       965|       996|      1388|      1|           1.0|          3.0|            0.0|\n",
      "|     Never Let Me Go|           2010|         15000000|     R|            Drama|     0|        11173718|    103|        Mark Romanek|     UK|    134212|tt1334260|             0.7099999904632568|                    0.7|              0.69|         27|   8|                0|                      0|         0|               0|         0|               0|        87|       181|       570|      1249|      0|           0.0|          0.0|            1.0|\n",
      "|Goosebumps 2: Hau...|           2018|         35000000|    PG|           Horror|     1|        93291478|     90|          Ari Sandel|    USA|     15594|tt5664636|             0.5599999904632569|                   0.48|              0.53|          0|   0|                0|                      0|         0|               0|         0|               0|       126|       486|       939|       999|      1|           2.0|          5.0|            0.0|\n",
      "|     Eddie the Eagle|           2015|         23000000| PG-13|            Drama|     0|        45060480|    106|     Dexter Fletcher|     UK|     81284|tt1083452|             0.7400000095367432|                   0.82|              0.54|          8|   2|                0|                      0|         0|               0|         0|               0|       476|      1006|      1207|      1342|      0|           1.0|          0.0|            1.0|\n",
      "|The Dark Knight R...|           2012|        275000000| PG-13|           Action|     1|      1084439099|    164|   Christopher Nolan|     UK|   1462319|tt1345836|             0.8399999618530274|                   0.87|              0.78|        101|  38|                0|                      0|         0|               0|         0|               1|       692|       898|      1108|      1468|      1|           1.0|          3.0|            1.0|\n",
      "|          The Master|           2012|         37500000|     R|            Drama|     0|        50647416|    138|Paul Thomas Anderson|    USA|    145209|tt1560747|             0.7199999809265136|                   0.85|              0.86|        182|  76|                0|                      0|         0|               3|         0|               0|       553|       868|      1064|      1096|      0|           0.0|          0.0|            0.0|\n",
      "|Mission: Impossib...|           2011|        145000000| PG-13|           Action|     1|       694713230|    132|           Brad Bird|    USA|    443423|tt1229238|             0.7400000095367432|                   0.93|              0.73|         30|   5|                0|                      0|         0|               0|         0|               0|       797|      1109|      1135|      1212|      1|           1.0|          3.0|            0.0|\n",
      "|          About Time|           2013|         12000000|     R|  Romantic Comedy|     0|        89309178|    123|      Richard Curtis|     UK|    284685|tt2194499|             0.7800000190734864|                   0.68|              0.55|          9|   3|                0|                      0|         0|               0|         0|               0|       208|       758|       861|      1166|      1|           0.0|          6.0|            1.0|\n",
      "|      And So It Goes|           2014|         18000000| PG-13|           Comedy|     0|        17920013|     94|          Rob Reiner|    USA|     12285|tt2465146|             0.5800000190734863|                   0.18|              0.38|          1|   0|                0|                      0|         0|               0|         0|               0|        97|       642|       965|      1021|      0|           1.0|          2.0|            0.0|\n",
      "|          La La Land|           2016|         20000000| PG-13|          Musical|     0|       426683677|    128|     Damien Chazelle|    USA|    477019|tt3783958|                            0.8|                   0.91|              0.94|        287| 237|                0|                      0|         6|               0|         0|               0|        16|       315|       618|      1449|      1|           1.0|          8.0|            0.0|\n",
      "|   Horrible Bosses 2|           2014|         40000000|     R|           Comedy|     1|       105945357|    108|         Sean Anders|    USA|    152452|tt2170439|             0.6300000190734864|                   0.34|               0.4|          3|   1|                0|                      0|         0|               0|         0|               0|       698|       911|      1051|      1289|      1|           0.0|          2.0|            0.0|\n",
      "|  Going the Distance|           2010|         32000000|     R|  Romantic Comedy|     0|        43603990|    102|    Nanette Burstein|    USA|     55713|tt1322312|             0.6300000190734864|                   0.54|              0.51|          0|   0|                0|                      0|         0|               0|         0|               0|       402|       469|       911|      1289|      0|           0.0|          6.0|            0.0|\n",
      "|  Dumb and Dumber To|           2014|         40000000| PG-13|           Comedy|     1|       156553592|    109|      Bobby Farrelly|    USA|    124876|tt2096672|             0.5599999904632569|                    0.3|              0.36|          7|   1|                0|                      0|         0|               0|         0|               0|        24|       746|       945|      1301|      1|           1.0|          2.0|            0.0|\n",
      "|         Blair Witch|           2016|         10000000|     R|           Horror|     0|        38985577|     89|        Adam Wingard| Canada|     39358|tt1540011|                            0.5|                   0.37|              0.47|          7|   3|                0|                      0|         0|               0|         0|               0|       626|       959|      1068|      1171|      1|           0.0|          5.0|            3.0|\n",
      "|          Colombiana|           2011|         40000000| PG-13|Thriller/Suspense|     0|        72295262|    108|     Olivier Megaton| France|     91419|tt1657507|             0.6400000095367432|                   0.28|              0.45|          5|   2|                0|                      0|         0|               0|         0|               0|       649|      1025|      1187|      1451|      0|           1.0|          4.0|            2.0|\n",
      "+--------------------+---------------+-----------------+------+-----------------+------+----------------+-------+--------------------+-------+----------+---------+-------------------------------+-----------------------+------------------+-----------+----+-----------------+-----------------------+----------+----------------+----------+----------------+----------+----------+----------+----------+-------+--------------+-------------+---------------+\n",
      "only showing top 20 rows\n",
      "\n"
     ]
    }
   ],
   "source": [
    "for col in columns_to_index:\n",
    "    labelIndexer = StringIndexer(inputCol=col, outputCol=f\"{col}_indexed\").fit(data)\n",
    "    data = labelIndexer.transform(data)\n",
    "data.show()"
   ]
  },
  {
   "cell_type": "code",
   "execution_count": 10,
   "metadata": {},
   "outputs": [],
   "source": [
    "feature_cols = [\n",
    "    \"sequel\",\n",
    "    \"runtime\",\n",
    "    \"imdb_votes\",\n",
    "    \"ratings_internet_movie_database\",\n",
    "    \"ratings_rotten_tomatoes\",\n",
    "    \"nominations\",\n",
    "    \"wins\",\n",
    "    \"won_golden_globes\",\n",
    "    \"nominated_golden_globes\",\n",
    "    \"won_oscars\",\n",
    "    \"nominated_oscars\",\n",
    "    \"won_baftas\",\n",
    "    \"nominated_baftas\",\n",
    "    \"actor_id_0\",\n",
    "    \"actor_id_1\",\n",
    "    \"actor_id_2\",\n",
    "    \"actor_id_3\",\n",
    "    \"rating_indexed\",\n",
    "    \"genre_indexed\",\n",
    "    \"country_indexed\",\n",
    "]"
   ]
  },
  {
   "cell_type": "code",
   "execution_count": 11,
   "metadata": {},
   "outputs": [],
   "source": [
    "assembler = VectorAssembler(inputCols=feature_cols, outputCol=\"features\") \n",
    "assembled_df = assembler.setHandleInvalid(\"skip\").transform(data)"
   ]
  },
  {
   "cell_type": "code",
   "execution_count": 12,
   "metadata": {},
   "outputs": [],
   "source": [
    "# Split the data into training and test sets (30% held out for testing)\n",
    "(training_data, test_data) = assembled_df.randomSplit([0.7, 0.3], seed=1234)"
   ]
  },
  {
   "cell_type": "code",
   "execution_count": 13,
   "metadata": {},
   "outputs": [],
   "source": [
    "num_folds = 5"
   ]
  },
  {
   "cell_type": "code",
   "execution_count": 14,
   "metadata": {},
   "outputs": [],
   "source": [
    "evaluator = MulticlassClassificationEvaluator(\n",
    "    labelCol=\"success\", predictionCol=\"prediction\", metricName=\"accuracy\")"
   ]
  },
  {
   "cell_type": "code",
   "execution_count": 15,
   "metadata": {},
   "outputs": [],
   "source": [
    "# Train a RandomForest model.\n",
    "rf = RandomForestClassifier(labelCol=\"success\", featuresCol=\"features\", numTrees=500)"
   ]
  },
  {
   "cell_type": "code",
   "execution_count": 16,
   "metadata": {},
   "outputs": [],
   "source": [
    "paramGrid = (\n",
    "    ParamGridBuilder().addGrid(param=rf.numTrees, values=[100, 300, 500]).build()\n",
    ")\n",
    "\n",
    "crossval = CrossValidator(\n",
    "    estimator=rf,\n",
    "    estimatorParamMaps=paramGrid,\n",
    "    evaluator=evaluator,\n",
    "    numFolds=num_folds,\n",
    "    seed=1234,\n",
    ")"
   ]
  },
  {
   "cell_type": "code",
   "execution_count": 17,
   "metadata": {},
   "outputs": [],
   "source": [
    "model = crossval.fit(training_data)"
   ]
  },
  {
   "cell_type": "code",
   "execution_count": 18,
   "metadata": {},
   "outputs": [],
   "source": [
    "predictions_train = model.transform(training_data)"
   ]
  },
  {
   "cell_type": "code",
   "execution_count": 19,
   "metadata": {},
   "outputs": [],
   "source": [
    "predictions_test = model.transform(test_data)"
   ]
  },
  {
   "cell_type": "code",
   "execution_count": 21,
   "metadata": {},
   "outputs": [
    {
     "name": "stdout",
     "output_type": "stream",
     "text": [
      "+----------------+--------------------+----------+--------------------+\n",
      "|      movie_name|       rawPrediction|prediction|         probability|\n",
      "+----------------+--------------------+----------+--------------------+\n",
      "|12 Years a Slave|[10.1473193222404...|       1.0|[0.10147319322240...|\n",
      "|       127 Hours|[8.36548148875023...|       1.0|[0.08365481488750...|\n",
      "|  22 Jump Street|[16.1721309196209...|       1.0|[0.16172130919620...|\n",
      "|About Last Night|[55.1612355088167...|       0.0|[0.55161235508816...|\n",
      "|  American Ultra|[43.9907665953758...|       1.0|[0.43990766595375...|\n",
      "+----------------+--------------------+----------+--------------------+\n",
      "only showing top 5 rows\n",
      "\n"
     ]
    }
   ],
   "source": [
    "predictions_test.select('movie_name', 'rawPrediction', 'prediction', 'probability').show(5)"
   ]
  },
  {
   "cell_type": "code",
   "execution_count": 22,
   "metadata": {},
   "outputs": [
    {
     "data": {
      "text/plain": [
       "Row(probability=DenseVector([0.1015, 0.8985]))"
      ]
     },
     "execution_count": 22,
     "metadata": {},
     "output_type": "execute_result"
    }
   ],
   "source": [
    "predictions_test.select('probability').collect()[0]"
   ]
  },
  {
   "cell_type": "code",
   "execution_count": 23,
   "metadata": {},
   "outputs": [
    {
     "name": "stdout",
     "output_type": "stream",
     "text": [
      "Train Accuracy = 0.854545\n"
     ]
    }
   ],
   "source": [
    "accuracy = evaluator.evaluate(predictions_train)\n",
    "print(\"Train Accuracy = %g\" % (accuracy))"
   ]
  },
  {
   "cell_type": "code",
   "execution_count": 24,
   "metadata": {},
   "outputs": [
    {
     "name": "stdout",
     "output_type": "stream",
     "text": [
      "Test Accuracy = 0.729885\n"
     ]
    }
   ],
   "source": [
    "accuracy = evaluator.evaluate(predictions_test)\n",
    "print(\"Test Accuracy = %g\" % (accuracy))"
   ]
  },
  {
   "cell_type": "code",
   "execution_count": 25,
   "metadata": {},
   "outputs": [],
   "source": [
    "best_model = model.bestModel"
   ]
  },
  {
   "cell_type": "code",
   "execution_count": 26,
   "metadata": {},
   "outputs": [],
   "source": [
    "feat_importances = list(((col, imp) for col, imp in zip(feature_cols, best_model.featureImportances.values)))"
   ]
  },
  {
   "cell_type": "code",
   "execution_count": 27,
   "metadata": {},
   "outputs": [],
   "source": [
    "feat_importances.sort(key=lambda x: x[1], reverse=True)"
   ]
  },
  {
   "cell_type": "code",
   "execution_count": 28,
   "metadata": {},
   "outputs": [
    {
     "data": {
      "text/plain": [
       "[('imdb_votes', 0.22764393378476178),\n",
       " ('genre_indexed', 0.15842658597130765),\n",
       " ('nominations', 0.08876340636030738),\n",
       " ('sequel', 0.08351526606190471),\n",
       " ('ratings_rotten_tomatoes', 0.07033680619809499),\n",
       " ('rating_indexed', 0.0564600268711082),\n",
       " ('runtime', 0.05260551598115901),\n",
       " ('wins', 0.05042679521912936),\n",
       " ('ratings_internet_movie_database', 0.039189450029561715),\n",
       " ('nominated_baftas', 0.035365942978525675),\n",
       " ('actor_id_1', 0.034825671725164146),\n",
       " ('actor_id_2', 0.034421006599139686),\n",
       " ('actor_id_0', 0.033552641945929496),\n",
       " ('actor_id_3', 0.01803217209641499),\n",
       " ('won_oscars', 0.008950525745148468),\n",
       " ('nominated_oscars', 0.004289329321917007),\n",
       " ('nominated_golden_globes', 0.0024399677370223866),\n",
       " ('won_golden_globes', 0.0005136035590450551),\n",
       " ('won_baftas', 0.00024135181435823886)]"
      ]
     },
     "execution_count": 28,
     "metadata": {},
     "output_type": "execute_result"
    }
   ],
   "source": [
    "feat_importances"
   ]
  },
  {
   "cell_type": "code",
   "execution_count": null,
   "metadata": {},
   "outputs": [],
   "source": []
  }
 ],
 "metadata": {
  "kernelspec": {
   "display_name": "Python (bigdata)",
   "language": "python",
   "name": "bigdata"
  },
  "language_info": {
   "codemirror_mode": {
    "name": "ipython",
    "version": 3
   },
   "file_extension": ".py",
   "mimetype": "text/x-python",
   "name": "python",
   "nbconvert_exporter": "python",
   "pygments_lexer": "ipython3",
   "version": "3.7.6"
  }
 },
 "nbformat": 4,
 "nbformat_minor": 4
}
